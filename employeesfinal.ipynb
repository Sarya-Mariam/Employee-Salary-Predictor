{
  "cells": [
    {
      "cell_type": "markdown",
      "metadata": {
        "id": "view-in-github",
        "colab_type": "text"
      },
      "source": [
        "<a href=\"https://colab.research.google.com/github/Sarya-Mariam/Employee-Salary-Predictor/blob/main/employeesfinal.ipynb\" target=\"_parent\"><img src=\"https://colab.research.google.com/assets/colab-badge.svg\" alt=\"Open In Colab\"/></a>"
      ]
    },
    {
      "cell_type": "code",
      "execution_count": null,
      "metadata": {
        "id": "mYkDZ84GQZCA"
      },
      "outputs": [],
      "source": [
        "# Step 1: Import libraries\n",
        "import pandas as pd\n",
        "import matplotlib.pyplot as plt\n",
        "from sklearn.preprocessing import LabelEncoder, StandardScaler\n",
        "from sklearn.model_selection import train_test_split\n",
        "from sklearn.pipeline import Pipeline\n",
        "from sklearn.metrics import accuracy_score, classification_report\n",
        "from sklearn.linear_model import LogisticRegression\n",
        "from sklearn.ensemble import RandomForestClassifier, GradientBoostingClassifier\n",
        "from sklearn.neighbors import KNeighborsClassifier\n",
        "from sklearn.svm import SVC\n",
        "import joblib"
      ]
    },
    {
      "cell_type": "code",
      "source": [
        "from google.colab import drive\n",
        "drive.mount('/content/drive')"
      ],
      "metadata": {
        "colab": {
          "base_uri": "https://localhost:8080/"
        },
        "id": "p0VlUnRlSa4q",
        "outputId": "e02f6cb6-5e46-454c-b253-f9be11467ecf"
      },
      "execution_count": null,
      "outputs": [
        {
          "output_type": "stream",
          "name": "stdout",
          "text": [
            "Drive already mounted at /content/drive; to attempt to forcibly remount, call drive.mount(\"/content/drive\", force_remount=True).\n"
          ]
        }
      ]
    },
    {
      "cell_type": "code",
      "execution_count": null,
      "metadata": {
        "colab": {
          "base_uri": "https://localhost:8080/"
        },
        "id": "-CgP_j-sQccd",
        "outputId": "c4db0627-486c-4543-e04c-27c55ca3d2da"
      },
      "outputs": [
        {
          "output_type": "stream",
          "name": "stdout",
          "text": [
            "Initial shape: (48842, 15)\n"
          ]
        }
      ],
      "source": [
        "# Step 2: Load dataset\n",
        "data = pd.read_csv(\"/adult 3.csv\")\n",
        "print(\"Initial shape:\", data.shape)"
      ]
    },
    {
      "cell_type": "code",
      "execution_count": null,
      "metadata": {
        "colab": {
          "base_uri": "https://localhost:8080/"
        },
        "id": "f1Tm7jDnQidR",
        "outputId": "4f62e620-f432-462d-c7d5-846c71fd90c9"
      },
      "outputs": [
        {
          "output_type": "stream",
          "name": "stderr",
          "text": [
            "/tmp/ipython-input-9-4106213938.py:2: FutureWarning: A value is trying to be set on a copy of a DataFrame or Series through chained assignment using an inplace method.\n",
            "The behavior will change in pandas 3.0. This inplace method will never work because the intermediate object on which we are setting values always behaves as a copy.\n",
            "\n",
            "For example, when doing 'df[col].method(value, inplace=True)', try using 'df.method({col: value}, inplace=True)' or df[col] = df[col].method(value) instead, to perform the operation inplace on the original object.\n",
            "\n",
            "\n",
            "  data['workclass'].replace('?', 'Others', inplace=True)\n",
            "/tmp/ipython-input-9-4106213938.py:3: FutureWarning: A value is trying to be set on a copy of a DataFrame or Series through chained assignment using an inplace method.\n",
            "The behavior will change in pandas 3.0. This inplace method will never work because the intermediate object on which we are setting values always behaves as a copy.\n",
            "\n",
            "For example, when doing 'df[col].method(value, inplace=True)', try using 'df.method({col: value}, inplace=True)' or df[col] = df[col].method(value) instead, to perform the operation inplace on the original object.\n",
            "\n",
            "\n",
            "  data['occupation'].replace('?', 'Others', inplace=True)\n"
          ]
        }
      ],
      "source": [
        "# Step 3: Handle missing values (replace '?' with 'Others')\n",
        "data['workclass'].replace('?', 'Others', inplace=True)\n",
        "data['occupation'].replace('?', 'Others', inplace=True)"
      ]
    },
    {
      "cell_type": "code",
      "execution_count": null,
      "metadata": {
        "id": "nhrQX9uNQkti"
      },
      "outputs": [],
      "source": [
        "# Step 4: Drop rare or irrelevant categories\n",
        "data = data[~data['workclass'].isin(['Without-pay', 'Never-worked'])]\n"
      ]
    },
    {
      "cell_type": "code",
      "execution_count": null,
      "metadata": {
        "colab": {
          "base_uri": "https://localhost:8080/"
        },
        "id": "RmWjtb8GQpae",
        "outputId": "7b52516a-41fd-4698-a965-89f97e1bd2a4"
      },
      "outputs": [
        {
          "output_type": "stream",
          "name": "stdout",
          "text": [
            "Workclass counts:\n",
            " workclass\n",
            "Private             33906\n",
            "Self-emp-not-inc     3862\n",
            "Local-gov            3136\n",
            "Others               2799\n",
            "State-gov            1981\n",
            "Self-emp-inc         1695\n",
            "Federal-gov          1432\n",
            "Name: count, dtype: int64\n",
            "Occupation counts:\n",
            " occupation\n",
            "Prof-specialty       6172\n",
            "Craft-repair         6111\n",
            "Exec-managerial      6085\n",
            "Adm-clerical         5608\n",
            "Sales                5503\n",
            "Other-service        4921\n",
            "Machine-op-inspct    3020\n",
            "Others               2799\n",
            "Transport-moving     2354\n",
            "Handlers-cleaners    2070\n",
            "Farming-fishing      1482\n",
            "Tech-support         1446\n",
            "Protective-serv       983\n",
            "Priv-house-serv       242\n",
            "Armed-Forces           15\n",
            "Name: count, dtype: int64\n",
            "Relationship counts:\n",
            " relationship\n",
            "Husband           19708\n",
            "Not-in-family     12582\n",
            "Own-child          7566\n",
            "Unmarried          5123\n",
            "Wife               2327\n",
            "Other-relative     1505\n",
            "Name: count, dtype: int64\n",
            "Gender counts:\n",
            " gender\n",
            "Male      32629\n",
            "Female    16182\n",
            "Name: count, dtype: int64\n"
          ]
        }
      ],
      "source": [
        "# Step 5: Display category counts (optional)\n",
        "print(\"Workclass counts:\\n\", data['workclass'].value_counts())\n",
        "print(\"Occupation counts:\\n\", data['occupation'].value_counts())\n",
        "print(\"Relationship counts:\\n\", data['relationship'].value_counts())\n",
        "print(\"Gender counts:\\n\", data['gender'].value_counts())"
      ]
    },
    {
      "cell_type": "code",
      "execution_count": null,
      "metadata": {
        "colab": {
          "base_uri": "https://localhost:8080/",
          "height": 452
        },
        "id": "OK4Ma0LCQsJl",
        "outputId": "d75f95e1-6ce8-4ea8-8947-501b86864b8f"
      },
      "outputs": [
        {
          "output_type": "display_data",
          "data": {
            "text/plain": [
              "<Figure size 640x480 with 1 Axes>"
            ],
            "image/png": "[encoded data removed]"
          },
          "metadata": {}
        }
      ],
      "source": [
        "# Step 6: Outlier detection and handling using boxplots (optional visualization)\n",
        "plt.boxplot(data['age'])\n",
        "plt.title(\"Boxplot of Age\")\n",
        "plt.show()"
      ]
    },
    {
      "cell_type": "code",
      "execution_count": null,
      "metadata": {
        "id": "ZqGW0JbZQwDE"
      },
      "outputs": [],
      "source": [
        "# Remove age outliers\n",
        "data = data[(data['age'] >= 17) & (data['age'] <= 75)]"
      ]
    },
    {
      "cell_type": "code",
      "execution_count": null,
      "metadata": {
        "colab": {
          "base_uri": "https://localhost:8080/",
          "height": 452
        },
        "id": "RNoKhBHdQz5M",
        "outputId": "38eacdee-3f42-434b-b7ef-583bab3b4ee8"
      },
      "outputs": [
        {
          "output_type": "display_data",
          "data": {
            "text/plain": [
              "<Figure size 640x480 with 1 Axes>"
            ],
            "image/png": "[encoded data removed]"
          },
          "metadata": {}
        }
      ],
      "source": [
        "# Educational-num outlier removal\n",
        "plt.boxplot(data['educational-num'])\n",
        "plt.title(\"Boxplot of Educational-Num\")\n",
        "plt.show()"
      ]
    },
    {
      "cell_type": "code",
      "execution_count": null,
      "metadata": {
        "id": "psQ8UE19Q38X"
      },
      "outputs": [],
      "source": [
        "data = data[(data['educational-num'] >= 5) & (data['educational-num'] <= 16)]"
      ]
    },
    {
      "cell_type": "code",
      "execution_count": null,
      "metadata": {
        "colab": {
          "base_uri": "https://localhost:8080/",
          "height": 452
        },
        "id": "I_VVn7YvQ8hD",
        "outputId": "47f5c2fa-a26a-4a41-deff-44d7c81acb62"
      },
      "outputs": [
        {
          "output_type": "display_data",
          "data": {
            "text/plain": [
              "<Figure size 640x480 with 1 Axes>"
            ],
            "image/png": "[encoded data removed]"
          },
          "metadata": {}
        }
      ],
      "source": [
        "# Capital-gain and hours-per-week (just visualization)\n",
        "plt.boxplot(data['capital-gain'])\n",
        "plt.title(\"Boxplot of Capital Gain\")\n",
        "plt.show()"
      ]
    },
    {
      "cell_type": "code",
      "execution_count": null,
      "metadata": {
        "colab": {
          "base_uri": "https://localhost:8080/",
          "height": 452
        },
        "id": "Us0cTNrwRAhW",
        "outputId": "aedfa8a7-d8c5-4246-ecf6-997a0bd8bd0e"
      },
      "outputs": [
        {
          "output_type": "display_data",
          "data": {
            "text/plain": [
              "<Figure size 640x480 with 1 Axes>"
            ],
            "image/png": "[encoded data removed]"
          },
          "metadata": {}
        }
      ],
      "source": [
        "plt.boxplot(data['hours-per-week'])\n",
        "plt.title(\"Boxplot of Hours per Week\")\n",
        "plt.show()"
      ]
    },
    {
      "cell_type": "code",
      "execution_count": null,
      "metadata": {
        "id": "BRLJ3JcMRFJ9"
      },
      "outputs": [],
      "source": [
        "# Step 7: Drop 'education' column (because 'educational-num' is numerical version)\n",
        "data.drop(columns=['education'], inplace=True)"
      ]
    },
    {
      "cell_type": "code",
      "execution_count": null,
      "metadata": {
        "id": "iPXg77gzRKlF"
      },
      "outputs": [],
      "source": [
        "# Step 8: Label Encoding of categorical variables\n",
        "encoder = LabelEncoder()\n",
        "categorical_cols = ['workclass', 'marital-status', 'occupation', 'relationship', 'race', 'gender', 'native-country']"
      ]
    },
    {
      "cell_type": "code",
      "execution_count": null,
      "metadata": {
        "id": "48QXUoxVRPBe"
      },
      "outputs": [],
      "source": [
        "for col in categorical_cols:\n",
        "    data[col] = encoder.fit_transform(data[col])"
      ]
    },
    {
      "cell_type": "code",
      "execution_count": null,
      "metadata": {
        "id": "gD9pnITqRSeD"
      },
      "outputs": [],
      "source": [
        "# Step 9: Define features and target\n",
        "X = data.drop(columns=['income'])\n",
        "y = data['income']"
      ]
    },
    {
      "cell_type": "code",
      "execution_count": null,
      "metadata": {
        "colab": {
          "base_uri": "https://localhost:8080/"
        },
        "id": "kNvfq8p4vNcU",
        "outputId": "796843e9-c9a4-4791-dd2c-892101c5cd32"
      },
      "outputs": [
        {
          "output_type": "execute_result",
          "data": {
            "text/plain": [
              "['model_features.pkl']"
            ]
          },
          "metadata": {},
          "execution_count": 22
        }
      ],
      "source": [
        "# ✅ Save feature names for later use in Streamlit\n",
        "joblib.dump(X.columns.tolist(), \"model_features.pkl\")"
      ]
    },
    {
      "cell_type": "code",
      "execution_count": null,
      "metadata": {
        "id": "wrCGPxO4RWsV"
      },
      "outputs": [],
      "source": [
        "# Step 10: Train-test split\n",
        "X_train, X_test, y_train, y_test = train_test_split(X, y, test_size=0.2, random_state=42)"
      ]
    },
    {
      "cell_type": "code",
      "execution_count": null,
      "metadata": {
        "colab": {
          "base_uri": "https://localhost:8080/"
        },
        "id": "mZ6uidpvRa6b",
        "outputId": "02bca0fa-0c9b-44ae-fcb8-3d457b5efa6f"
      },
      "outputs": [
        {
          "output_type": "stream",
          "name": "stdout",
          "text": [
            "\n",
            "LogisticRegression Accuracy: 0.8149\n",
            "              precision    recall  f1-score   support\n",
            "\n",
            "       <=50K       0.84      0.93      0.88      7010\n",
            "        >50K       0.69      0.46      0.55      2334\n",
            "\n",
            "    accuracy                           0.81      9344\n",
            "   macro avg       0.77      0.70      0.72      9344\n",
            "weighted avg       0.80      0.81      0.80      9344\n",
            "\n",
            "\n",
            "RandomForest Accuracy: 0.8484\n",
            "              precision    recall  f1-score   support\n",
            "\n",
            "       <=50K       0.88      0.93      0.90      7010\n",
            "        >50K       0.74      0.61      0.67      2334\n",
            "\n",
            "    accuracy                           0.85      9344\n",
            "   macro avg       0.81      0.77      0.78      9344\n",
            "weighted avg       0.84      0.85      0.84      9344\n",
            "\n",
            "\n",
            "KNN Accuracy: 0.8245\n",
            "              precision    recall  f1-score   support\n",
            "\n",
            "       <=50K       0.87      0.90      0.88      7010\n",
            "        >50K       0.67      0.60      0.63      2334\n",
            "\n",
            "    accuracy                           0.82      9344\n",
            "   macro avg       0.77      0.75      0.76      9344\n",
            "weighted avg       0.82      0.82      0.82      9344\n",
            "\n",
            "\n",
            "SVM Accuracy: 0.8396\n",
            "              precision    recall  f1-score   support\n",
            "\n",
            "       <=50K       0.86      0.94      0.90      7010\n",
            "        >50K       0.75      0.54      0.63      2334\n",
            "\n",
            "    accuracy                           0.84      9344\n",
            "   macro avg       0.80      0.74      0.76      9344\n",
            "weighted avg       0.83      0.84      0.83      9344\n",
            "\n",
            "\n",
            "GradientBoosting Accuracy: 0.8571\n",
            "              precision    recall  f1-score   support\n",
            "\n",
            "       <=50K       0.88      0.94      0.91      7010\n",
            "        >50K       0.78      0.60      0.68      2334\n",
            "\n",
            "    accuracy                           0.86      9344\n",
            "   macro avg       0.83      0.77      0.79      9344\n",
            "weighted avg       0.85      0.86      0.85      9344\n",
            "\n"
          ]
        }
      ],
      "source": [
        "# Step 11: Define models to compare\n",
        "models = {\n",
        "    \"LogisticRegression\": LogisticRegression(max_iter=1000),\n",
        "    \"RandomForest\": RandomForestClassifier(),\n",
        "    \"KNN\": KNeighborsClassifier(),\n",
        "    \"SVM\": SVC(probability=True),\n",
        "    \"GradientBoosting\": GradientBoostingClassifier()\n",
        "}\n",
        "\n",
        "# Step 12: Train and evaluate models using pipeline\n",
        "results = {}\n",
        "\n",
        "for name, model in models.items():\n",
        "    pipe = Pipeline([\n",
        "        ('scaler', StandardScaler()),\n",
        "        ('model', model)\n",
        "    ])\n",
        "    pipe.fit(X_train, y_train)\n",
        "    y_pred = pipe.predict(X_test)\n",
        "    acc = accuracy_score(y_test, y_pred)\n",
        "    results[name] = acc\n",
        "    print(f\"\\n{name} Accuracy: {acc:.4f}\")\n",
        "    print(classification_report(y_test, y_pred))"
      ]
    },
    {
      "cell_type": "code",
      "execution_count": null,
      "metadata": {
        "colab": {
          "base_uri": "https://localhost:8080/",
          "height": 487
        },
        "id": "xBYyHDbrRn-t",
        "outputId": "fb4c7d53-0e8f-4e11-ab9c-640f44b08ab7"
      },
      "outputs": [
        {
          "output_type": "display_data",
          "data": {
            "text/plain": [
              "<Figure size 640x480 with 1 Axes>"
            ],
            "image/png": "[encoded data removed]"
          },
          "metadata": {}
        }
      ],
      "source": [
        "# Step 13: Visualize model comparison\n",
        "plt.bar(results.keys(), results.values(), color='skyblue')\n",
        "plt.ylabel('Accuracy Score')\n",
        "plt.title('Model Comparison')\n",
        "plt.xticks(rotation=45)\n",
        "plt.grid(True)\n",
        "plt.tight_layout()\n",
        "plt.show()"
      ]
    },
    {
      "cell_type": "code",
      "execution_count": null,
      "metadata": {
        "colab": {
          "base_uri": "https://localhost:8080/"
        },
        "id": "cPwbQONOSJiE",
        "outputId": "0534ff0d-2dcc-4d38-f843-fa140a2886c2"
      },
      "outputs": [
        {
          "output_type": "stream",
          "name": "stdout",
          "text": [
            "\n",
            "✅ Best model: GradientBoosting with accuracy 0.8571\n",
            "✅ Model saved as 'best_model.pkl'\n"
          ]
        }
      ],
      "source": [
        "# Step 14: Save the best-performing model\n",
        "best_model_name = max(results, key=results.get)\n",
        "final_model = models[best_model_name]\n",
        "final_model.fit(X_train, y_train)\n",
        "joblib.dump(final_model, \"best_model.pkl\")\n",
        "\n",
        "print(f\"\\n✅ Best model: {best_model_name} with accuracy {results[best_model_name]:.4f}\")\n",
        "print(\"✅ Model saved as 'best_model.pkl'\")"
      ]
    },
    {
      "cell_type": "code",
      "execution_count": null,
      "metadata": {
        "colab": {
          "base_uri": "https://localhost:8080/"
        },
        "id": "8p2BwwHSUJm-",
        "outputId": "4b81537f-49cf-48b0-c751-ff2ca55245e3"
      },
      "outputs": [
        {
          "output_type": "stream",
          "name": "stdout",
          "text": [
            "\n",
            "🧠 Predicted Salary Classes for first 10 test samples:\n",
            "Sample 1: <=50K\n",
            "Sample 2: <=50K\n",
            "Sample 3: <=50K\n",
            "Sample 4: <=50K\n",
            "Sample 5: <=50K\n",
            "Sample 6: >50K\n",
            "Sample 7: >50K\n",
            "Sample 8: <=50K\n",
            "Sample 9: <=50K\n",
            "Sample 10: <=50K\n"
          ]
        }
      ],
      "source": [
        "# Step 15: Predict on first 5 test samples using the saved pipeline\n",
        "loaded_pipeline = joblib.load(\"best_model.pkl\")\n",
        "\n",
        "# Predict directly using pipeline (includes scaler)\n",
        "predictions = loaded_pipeline.predict(X_test[:10])\n",
        "\n",
        "# Display predictions\n",
        "print(\"\\n🧠 Predicted Salary Classes for first 10 test samples:\")\n",
        "for i, label in enumerate(predictions, 1):\n",
        "    print(f\"Sample {i}: {label}\")\n"
      ]
    },
    {
      "cell_type": "code",
      "execution_count": null,
      "metadata": {
        "id": "kYClnz35sNgn",
        "colab": {
          "base_uri": "https://localhost:8080/"
        },
        "outputId": "ad3e6e6f-7435-40fe-e37e-ed95b6c12b7d"
      },
      "outputs": [
        {
          "output_type": "stream",
          "name": "stdout",
          "text": [
            "\u001b[2K     \u001b[90m━━━━━━━━━━━━━━━━━━━━━━━━━━━━━━━━━━━━━━━━\u001b[0m \u001b[32m44.3/44.3 kB\u001b[0m \u001b[31m2.7 MB/s\u001b[0m eta \u001b[36m0:00:00\u001b[0m\n",
            "\u001b[2K   \u001b[90m━━━━━━━━━━━━━━━━━━━━━━━━━━━━━━━━━━━━━━━━\u001b[0m \u001b[32m9.9/9.9 MB\u001b[0m \u001b[31m74.8 MB/s\u001b[0m eta \u001b[36m0:00:00\u001b[0m\n",
            "\u001b[2K   \u001b[90m━━━━━━━━━━━━━━━━━━━━━━━━━━━━━━━━━━━━━━━━\u001b[0m \u001b[32m6.9/6.9 MB\u001b[0m \u001b[31m87.7 MB/s\u001b[0m eta \u001b[36m0:00:00\u001b[0m\n",
            "\u001b[2K   \u001b[90m━━━━━━━━━━━━━━━━━━━━━━━━━━━━━━━━━━━━━━━━\u001b[0m \u001b[32m79.1/79.1 kB\u001b[0m \u001b[31m3.8 MB/s\u001b[0m eta \u001b[36m0:00:00\u001b[0m\n",
            "\u001b[?25h"
          ]
        }
      ],
      "source": [
        "!pip install -q streamlit pyngrok\n"
      ]
    },
    {
      "cell_type": "code",
      "execution_count": null,
      "metadata": {
        "colab": {
          "base_uri": "https://localhost:8080/"
        },
        "id": "p9vUeIYEy-x0",
        "outputId": "80edc44d-f282-4164-98de-31a18419d4c1"
      },
      "outputs": [
        {
          "output_type": "stream",
          "name": "stdout",
          "text": [
            "Writing app.py\n"
          ]
        }
      ],
      "source": [
        "%%writefile app.py\n",
        "import streamlit as st\n",
        "import pandas as pd\n",
        "import joblib\n",
        "\n",
        "# Load trained model and feature names\n",
        "model = joblib.load(\"best_model.pkl\")\n",
        "feature_names = joblib.load(\"model_features.pkl\")\n",
        "\n",
        "# Page configuration\n",
        "st.set_page_config(page_title=\"💼 Employee Salary Predictor\", layout=\"centered\")\n",
        "st.title(\"💼 Employee Salary Prediction App\")\n",
        "\n",
        "# Create input fields for each feature\n",
        "st.header(\"📝 Enter Employee Details:\")\n",
        "\n",
        "# Dictionary to collect user inputs\n",
        "user_input = {}\n",
        "\n",
        "# Define input options for categorical fields\n",
        "workclass_options = ['Federal-gov', 'Local-gov', 'Private', 'Self-emp-inc', 'Self-emp-not-inc', 'State-gov', 'Others']\n",
        "marital_status_options = ['Divorced', 'Married-AF-spouse', 'Married-civ-spouse', 'Married-spouse-absent', 'Never-married', 'Separated', 'Widowed']\n",
        "occupation_options = ['Adm-clerical', 'Craft-repair', 'Exec-managerial', 'Farming-fishing', 'Handlers-cleaners',\n",
        "                      'Machine-op-inspct', 'Other-service', 'Priv-house-serv', 'Prof-specialty',\n",
        "                      'Protective-serv', 'Sales', 'Tech-support', 'Transport-moving', 'Others']\n",
        "relationship_options = ['Husband', 'Not-in-family', 'Other-relative', 'Own-child', 'Unmarried', 'Wife']\n",
        "race_options = ['Amer-Indian-Eskimo', 'Asian-Pac-Islander', 'Black', 'Other', 'White']\n",
        "gender_options = ['Female', 'Male']\n",
        "native_country_options = ['United-States', 'Mexico', 'Philippines', 'Germany', 'Canada', 'Others']\n",
        "\n",
        "# Input widgets\n",
        "user_input['age'] = st.number_input(\"Age\", min_value=17, max_value=90, value=30)\n",
        "user_input['workclass'] = st.selectbox(\"Workclass\", workclass_options)\n",
        "user_input['fnlwgt'] = st.number_input(\"Final Weight (fnlwgt)\", min_value=10000, max_value=1000000, value=150000)\n",
        "user_input['marital-status'] = st.selectbox(\"Marital Status\", marital_status_options)\n",
        "user_input['occupation'] = st.selectbox(\"Occupation\", occupation_options)\n",
        "user_input['relationship'] = st.selectbox(\"Relationship\", relationship_options)\n",
        "user_input['race'] = st.selectbox(\"Race\", race_options)\n",
        "user_input['gender'] = st.selectbox(\"Gender\", gender_options)\n",
        "user_input['capital-gain'] = st.number_input(\"Capital Gain\", min_value=0, max_value=100000, value=0)\n",
        "user_input['capital-loss'] = st.number_input(\"Capital Loss\", min_value=0, max_value=5000, value=0)\n",
        "user_input['hours-per-week'] = st.slider(\"Hours per Week\", min_value=1, max_value=99, value=40)\n",
        "user_input['native-country'] = st.selectbox(\"Native Country\", native_country_options)\n",
        "user_input['educational-num'] = st.slider(\"Educational Number\", min_value=1, max_value=20, value=10)\n",
        "\n",
        "# When user clicks predict\n",
        "if st.button(\"🔮 Predict Salary Class\"):\n",
        "    input_df = pd.DataFrame([user_input])\n",
        "\n",
        "    # Encode categorical variables (same encoding order as training)\n",
        "    label_enc_cols = ['workclass', 'marital-status', 'occupation', 'relationship', 'race', 'gender', 'native-country']\n",
        "    for col in label_enc_cols:\n",
        "        input_df[col] = pd.factorize(input_df[col])[0]  # Fast encoding for consistency\n",
        "\n",
        "    # Reorder columns to match training\n",
        "    input_df = input_df.reindex(columns=feature_names)\n",
        "\n",
        "    # Predict\n",
        "    prediction = model.predict(input_df)[0]\n",
        "\n",
        "    # Show result\n",
        "    st.success(f\"🧾 Predicted Salary Class: **{prediction}**\")\n",
        "\n"
      ]
    },
    {
      "cell_type": "code",
      "execution_count": null,
      "metadata": {
        "colab": {
          "base_uri": "https://localhost:8080/",
          "height": 445
        },
        "id": "ss-rdKwazQgQ",
        "outputId": "372c8f30-8d14-4f98-ea71-32bf52538079"
      },
      "outputs": [
        {
          "output_type": "stream",
          "name": "stderr",
          "text": [
            "ERROR:pyngrok.process.ngrok:t=2025-07-22T18:07:45+0000 lvl=eror msg=\"failed to reconnect session\" obj=tunnels.session err=\"authentication failed: Your account is limited to 1 simultaneous ngrok agent sessions.\\nYou can run multiple simultaneous tunnels from a single agent session by defining the tunnels in your agent configuration file and starting them with the command `ngrok start --all`.\\nRead more about the agent configuration file: https://ngrok.com/docs/secure-tunnels/ngrok-agent/reference/config\\nYou can view your current agent sessions in the dashboard:\\nhttps://dashboard.ngrok.com/agents\\r\\n\\r\\nERR_NGROK_108\\r\\n\"\n"
          ]
        },
        {
          "output_type": "error",
          "ename": "PyngrokNgrokError",
          "evalue": "The ngrok process errored on start: authentication failed: Your account is limited to 1 simultaneous ngrok agent sessions.\\nYou can run multiple simultaneous tunnels from a single agent session by defining the tunnels in your agent configuration file and starting them with the command `ngrok start --all`.\\nRead more about the agent configuration file: https://ngrok.com/docs/secure-tunnels/ngrok-agent/reference/config\\nYou can view your current agent sessions in the dashboard:\\nhttps://dashboard.ngrok.com/agents\\r\\n\\r\\nERR_NGROK_108\\r\\n.",
          "traceback": [
            "\u001b[0;31m---------------------------------------------------------------------------\u001b[0m",
            "\u001b[0;31mPyngrokNgrokError\u001b[0m                         Traceback (most recent call last)",
            "\u001b[0;32m/tmp/ipython-input-31-1378492042.py\u001b[0m in \u001b[0;36m<cell line: 0>\u001b[0;34m()\u001b[0m\n\u001b[1;32m      1\u001b[0m \u001b[0;32mfrom\u001b[0m \u001b[0mpyngrok\u001b[0m \u001b[0;32mimport\u001b[0m \u001b[0mngrok\u001b[0m\u001b[0;34m\u001b[0m\u001b[0;34m\u001b[0m\u001b[0m\n\u001b[1;32m      2\u001b[0m \u001b[0mngrok\u001b[0m\u001b[0;34m.\u001b[0m\u001b[0mset_auth_token\u001b[0m\u001b[0;34m(\u001b[0m\u001b[0;34m\"30DubTquMZMtCs8dnpQgxl08eiw_5XfvdsxzDRX691LWZT7fD\"\u001b[0m\u001b[0;34m)\u001b[0m  \u001b[0;31m# Replace with your actual token\u001b[0m\u001b[0;34m\u001b[0m\u001b[0;34m\u001b[0m\u001b[0m\n\u001b[0;32m----> 3\u001b[0;31m \u001b[0mpublic_url\u001b[0m \u001b[0;34m=\u001b[0m \u001b[0mngrok\u001b[0m\u001b[0;34m.\u001b[0m\u001b[0mconnect\u001b[0m\u001b[0;34m(\u001b[0m\u001b[0;36m8501\u001b[0m\u001b[0;34m)\u001b[0m\u001b[0;34m\u001b[0m\u001b[0;34m\u001b[0m\u001b[0m\n\u001b[0m\u001b[1;32m      4\u001b[0m \u001b[0mprint\u001b[0m\u001b[0;34m(\u001b[0m\u001b[0mpublic_url\u001b[0m\u001b[0;34m)\u001b[0m\u001b[0;34m\u001b[0m\u001b[0;34m\u001b[0m\u001b[0m\n\u001b[1;32m      5\u001b[0m \u001b[0mget_ipython\u001b[0m\u001b[0;34m(\u001b[0m\u001b[0;34m)\u001b[0m\u001b[0;34m.\u001b[0m\u001b[0msystem\u001b[0m\u001b[0;34m(\u001b[0m\u001b[0;34m'streamlit run app.py &'\u001b[0m\u001b[0;34m)\u001b[0m\u001b[0;34m\u001b[0m\u001b[0;34m\u001b[0m\u001b[0m\n",
            "\u001b[0;32m/usr/local/lib/python3.11/dist-packages/pyngrok/ngrok.py\u001b[0m in \u001b[0;36mconnect\u001b[0;34m(addr, proto, name, pyngrok_config, **options)\u001b[0m\n\u001b[1;32m    383\u001b[0m     \u001b[0mlogger\u001b[0m\u001b[0;34m.\u001b[0m\u001b[0minfo\u001b[0m\u001b[0;34m(\u001b[0m\u001b[0;34mf\"Opening tunnel named: {name}\"\u001b[0m\u001b[0;34m)\u001b[0m\u001b[0;34m\u001b[0m\u001b[0;34m\u001b[0m\u001b[0m\n\u001b[1;32m    384\u001b[0m \u001b[0;34m\u001b[0m\u001b[0m\n\u001b[0;32m--> 385\u001b[0;31m     \u001b[0mapi_url\u001b[0m \u001b[0;34m=\u001b[0m \u001b[0mget_ngrok_process\u001b[0m\u001b[0;34m(\u001b[0m\u001b[0mpyngrok_config\u001b[0m\u001b[0;34m)\u001b[0m\u001b[0;34m.\u001b[0m\u001b[0mapi_url\u001b[0m\u001b[0;34m\u001b[0m\u001b[0;34m\u001b[0m\u001b[0m\n\u001b[0m\u001b[1;32m    386\u001b[0m \u001b[0;34m\u001b[0m\u001b[0m\n\u001b[1;32m    387\u001b[0m     \u001b[0mlogger\u001b[0m\u001b[0;34m.\u001b[0m\u001b[0mdebug\u001b[0m\u001b[0;34m(\u001b[0m\u001b[0;34mf\"Creating tunnel with options: {options}\"\u001b[0m\u001b[0;34m)\u001b[0m\u001b[0;34m\u001b[0m\u001b[0;34m\u001b[0m\u001b[0m\n",
            "\u001b[0;32m/usr/local/lib/python3.11/dist-packages/pyngrok/ngrok.py\u001b[0m in \u001b[0;36mget_ngrok_process\u001b[0;34m(pyngrok_config)\u001b[0m\n\u001b[1;32m    201\u001b[0m     \u001b[0minstall_ngrok\u001b[0m\u001b[0;34m(\u001b[0m\u001b[0mpyngrok_config\u001b[0m\u001b[0;34m)\u001b[0m\u001b[0;34m\u001b[0m\u001b[0;34m\u001b[0m\u001b[0m\n\u001b[1;32m    202\u001b[0m \u001b[0;34m\u001b[0m\u001b[0m\n\u001b[0;32m--> 203\u001b[0;31m     \u001b[0;32mreturn\u001b[0m \u001b[0mprocess\u001b[0m\u001b[0;34m.\u001b[0m\u001b[0mget_process\u001b[0m\u001b[0;34m(\u001b[0m\u001b[0mpyngrok_config\u001b[0m\u001b[0;34m)\u001b[0m\u001b[0;34m\u001b[0m\u001b[0;34m\u001b[0m\u001b[0m\n\u001b[0m\u001b[1;32m    204\u001b[0m \u001b[0;34m\u001b[0m\u001b[0m\n\u001b[1;32m    205\u001b[0m \u001b[0;34m\u001b[0m\u001b[0m\n",
            "\u001b[0;32m/usr/local/lib/python3.11/dist-packages/pyngrok/process.py\u001b[0m in \u001b[0;36mget_process\u001b[0;34m(pyngrok_config)\u001b[0m\n\u001b[1;32m    269\u001b[0m         \u001b[0;32mreturn\u001b[0m \u001b[0m_current_processes\u001b[0m\u001b[0;34m[\u001b[0m\u001b[0mpyngrok_config\u001b[0m\u001b[0;34m.\u001b[0m\u001b[0mngrok_path\u001b[0m\u001b[0;34m]\u001b[0m\u001b[0;34m\u001b[0m\u001b[0;34m\u001b[0m\u001b[0m\n\u001b[1;32m    270\u001b[0m \u001b[0;34m\u001b[0m\u001b[0m\n\u001b[0;32m--> 271\u001b[0;31m     \u001b[0;32mreturn\u001b[0m \u001b[0m_start_process\u001b[0m\u001b[0;34m(\u001b[0m\u001b[0mpyngrok_config\u001b[0m\u001b[0;34m)\u001b[0m\u001b[0;34m\u001b[0m\u001b[0;34m\u001b[0m\u001b[0m\n\u001b[0m\u001b[1;32m    272\u001b[0m \u001b[0;34m\u001b[0m\u001b[0m\n\u001b[1;32m    273\u001b[0m \u001b[0;34m\u001b[0m\u001b[0m\n",
            "\u001b[0;32m/usr/local/lib/python3.11/dist-packages/pyngrok/process.py\u001b[0m in \u001b[0;36m_start_process\u001b[0;34m(pyngrok_config)\u001b[0m\n\u001b[1;32m    445\u001b[0m \u001b[0;34m\u001b[0m\u001b[0m\n\u001b[1;32m    446\u001b[0m         \u001b[0;32mif\u001b[0m \u001b[0mngrok_process\u001b[0m\u001b[0;34m.\u001b[0m\u001b[0mstartup_error\u001b[0m \u001b[0;32mis\u001b[0m \u001b[0;32mnot\u001b[0m \u001b[0;32mNone\u001b[0m\u001b[0;34m:\u001b[0m\u001b[0;34m\u001b[0m\u001b[0;34m\u001b[0m\u001b[0m\n\u001b[0;32m--> 447\u001b[0;31m             raise PyngrokNgrokError(f\"The ngrok process errored on start: {ngrok_process.startup_error}.\",\n\u001b[0m\u001b[1;32m    448\u001b[0m                                     \u001b[0mngrok_process\u001b[0m\u001b[0;34m.\u001b[0m\u001b[0mlogs\u001b[0m\u001b[0;34m,\u001b[0m\u001b[0;34m\u001b[0m\u001b[0;34m\u001b[0m\u001b[0m\n\u001b[1;32m    449\u001b[0m                                     ngrok_process.startup_error)\n",
            "\u001b[0;31mPyngrokNgrokError\u001b[0m: The ngrok process errored on start: authentication failed: Your account is limited to 1 simultaneous ngrok agent sessions.\\nYou can run multiple simultaneous tunnels from a single agent session by defining the tunnels in your agent configuration file and starting them with the command `ngrok start --all`.\\nRead more about the agent configuration file: https://ngrok.com/docs/secure-tunnels/ngrok-agent/reference/config\\nYou can view your current agent sessions in the dashboard:\\nhttps://dashboard.ngrok.com/agents\\r\\n\\r\\nERR_NGROK_108\\r\\n."
          ]
        }
      ],
      "source": [
        "from pyngrok import ngrok\n",
        "ngrok.set_auth_token(\"30DubTquMZMtCs8dnpQgxl08eiw_5XfvdsxzDRX691LWZT7fD\")  # Replace with your actual token\n",
        "public_url = ngrok.connect(8501)\n",
        "print(public_url)\n",
        "!streamlit run app.py &"
      ]
    }
  ],
  "metadata": {
    "colab": {
      "provenance": [],
      "include_colab_link": true
    },
    "kernelspec": {
      "display_name": "Python 3 (ipykernel)",
      "language": "python",
      "name": "python3"
    },
    "language_info": {
      "codemirror_mode": {
        "name": "ipython",
        "version": 3
      },
      "file_extension": ".py",
      "mimetype": "text/x-python",
      "name": "python",
      "nbconvert_exporter": "python",
      "pygments_lexer": "ipython3",
      "version": "3.13.5"
    }
  },
  "nbformat": 4,
  "nbformat_minor": 0
}